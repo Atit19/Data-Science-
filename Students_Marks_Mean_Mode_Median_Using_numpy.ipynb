{
  "nbformat": 4,
  "nbformat_minor": 0,
  "metadata": {
    "colab": {
      "name": "Students Marks Mean Mode Median Using numpy.ipynb",
      "provenance": [],
      "authorship_tag": "ABX9TyOizt5rLU6/q6ERh5kUiW5A",
      "include_colab_link": true
    },
    "kernelspec": {
      "name": "python3",
      "display_name": "Python 3"
    },
    "language_info": {
      "name": "python"
    }
  },
  "cells": [
    {
      "cell_type": "markdown",
      "metadata": {
        "id": "view-in-github",
        "colab_type": "text"
      },
      "source": [
        "<a href=\"https://colab.research.google.com/github/Atit19/R.Descriptive/blob/main/Students_Marks_Mean_Mode_Median_Using_numpy.ipynb\" target=\"_parent\"><img src=\"https://colab.research.google.com/assets/colab-badge.svg\" alt=\"Open In Colab\"/></a>"
      ]
    },
    {
      "cell_type": "code",
      "execution_count": 2,
      "metadata": {
        "id": "V5dSQ7EW3uyA"
      },
      "outputs": [],
      "source": [
        "import numpy as np\n",
        "from scipy import stats"
      ]
    },
    {
      "cell_type": "code",
      "source": [
        "dataset= [34,36,36,38,38,39,39,40,40,41,41,41,41,42,42,45,49,56]\n",
        "dataset"
      ],
      "metadata": {
        "colab": {
          "base_uri": "https://localhost:8080/"
        },
        "id": "zuIkQzGc4DbE",
        "outputId": "7e4ee9d9-6a43-4204-fea8-4cfa50e3f9d4"
      },
      "execution_count": 11,
      "outputs": [
        {
          "output_type": "execute_result",
          "data": {
            "text/plain": [
              "[34, 36, 36, 38, 38, 39, 39, 40, 40, 41, 41, 41, 41, 42, 42, 45, 49, 56]"
            ]
          },
          "metadata": {},
          "execution_count": 11
        }
      ]
    },
    {
      "cell_type": "code",
      "source": [
        "#mean value\n",
        "mean = np.mean(dataset)\n",
        "print(\"Mean: \", mean)\n"
      ],
      "metadata": {
        "colab": {
          "base_uri": "https://localhost:8080/"
        },
        "id": "ODF-Nf7j4DOq",
        "outputId": "aa7ca7aa-545c-46c4-a5e9-afc01d0967ea"
      },
      "execution_count": 17,
      "outputs": [
        {
          "output_type": "stream",
          "name": "stdout",
          "text": [
            "Mean:  41.0\n"
          ]
        }
      ]
    },
    {
      "cell_type": "code",
      "source": [
        "\n",
        "#median value\n",
        "median = np.median(dataset)\n",
        "print(\"Median: \", median)"
      ],
      "metadata": {
        "colab": {
          "base_uri": "https://localhost:8080/"
        },
        "id": "lqWJogdU8IlY",
        "outputId": "7aee5f98-bd4a-43c6-8c2c-ecec1230d755"
      },
      "execution_count": 18,
      "outputs": [
        {
          "output_type": "stream",
          "name": "stdout",
          "text": [
            "Median:  40.5\n"
          ]
        }
      ]
    },
    {
      "cell_type": "code",
      "source": [
        "#mode value\n",
        "mode= stats.mode(dataset)\n",
        "print(\"Mode: \", mode)"
      ],
      "metadata": {
        "colab": {
          "base_uri": "https://localhost:8080/"
        },
        "id": "iUnOPo8Z8Kmv",
        "outputId": "72b24f94-42c9-4fdd-af2f-07426cff3063"
      },
      "execution_count": 22,
      "outputs": [
        {
          "output_type": "stream",
          "name": "stdout",
          "text": [
            "Mode:  ModeResult(mode=array([41]), count=array([4]))\n"
          ]
        }
      ]
    },
    {
      "cell_type": "code",
      "source": [
        "from scipy.stats.morestats import Std_dev\n",
        "# Standard Deviation\n",
        "Std = np.std(dataset)\n",
        "print(\"Standard deviation \", Std)"
      ],
      "metadata": {
        "colab": {
          "base_uri": "https://localhost:8080/"
        },
        "id": "nhogPUqC9u9Z",
        "outputId": "73d6b190-7935-4eb2-ceb5-00f112abfcea"
      },
      "execution_count": 26,
      "outputs": [
        {
          "output_type": "stream",
          "name": "stdout",
          "text": [
            "Std  4.910306620885412\n"
          ]
        }
      ]
    },
    {
      "cell_type": "code",
      "source": [
        "#For variance\n",
        "variance = np.var(dataset)\n",
        "print(\"Variance \", variance)"
      ],
      "metadata": {
        "colab": {
          "base_uri": "https://localhost:8080/"
        },
        "id": "kU-WAGCo-b_6",
        "outputId": "0bda8019-e834-4291-ce84-756fdb55166d"
      },
      "execution_count": 28,
      "outputs": [
        {
          "output_type": "stream",
          "name": "stdout",
          "text": [
            "Variance  24.11111111111111\n"
          ]
        }
      ]
    }
  ]
}