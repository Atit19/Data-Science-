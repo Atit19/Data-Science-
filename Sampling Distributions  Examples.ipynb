{
 "cells": [
  {
   "cell_type": "markdown",
   "id": "4f628ba1",
   "metadata": {},
   "source": [
    "question:-Auditors at a small community bank randomly sample 100 withdrawal transactions made during the week at an ATM machine located near the bank’s main branch. Over the past 2 years, the average withdrawal amount has been $50 with a standard deviation of $40. Since audit investigations are typically expensive, the auditors decide to not initiate further investigations if the mean transaction amount of the sample is between $45 and $55. What is the probability that in any given week, there will be an investigation?\n"
   ]
  },
  {
   "cell_type": "code",
   "execution_count": null,
   "id": "f7260062",
   "metadata": {},
   "outputs": [],
   "source": [
    "import scipy.stats as stats\n",
    "import numpy as np"
   ]
  },
  {
   "cell_type": "code",
   "execution_count": 58,
   "id": "32836f61",
   "metadata": {},
   "outputs": [],
   "source": [
    "mean = 50\n",
    "std = 40\n",
    "n = 100\n",
    "df = 99  # Degree of freedom 100-1=99"
   ]
  },
  {
   "cell_type": "markdown",
   "id": "3ef11d7c",
   "metadata": {},
   "source": [
    "#the probability that there will be an investigation,\n",
    "#if the mean transactions amount increases more than 55 USD or less than 45 USD\n",
    "#no investigation if the mean transactions amount remains between 45 to 55 USD\n"
   ]
  },
  {
   "cell_type": "code",
   "execution_count": 90,
   "id": "7f4d5e33",
   "metadata": {},
   "outputs": [
    {
     "data": {
      "text/plain": [
       "-1.25"
      ]
     },
     "execution_count": 90,
     "metadata": {},
     "output_type": "execute_result"
    }
   ],
   "source": [
    "z1 = (45-50)/(40/np.sqrt(100))\n",
    "z1"
   ]
  },
  {
   "cell_type": "code",
   "execution_count": 91,
   "id": "547cd4e6",
   "metadata": {},
   "outputs": [
    {
     "data": {
      "text/plain": [
       "1.25"
      ]
     },
     "execution_count": 91,
     "metadata": {},
     "output_type": "execute_result"
    }
   ],
   "source": [
    "z2 = (55-50)/(40/np.sqrt(100))\n",
    "z2"
   ]
  },
  {
   "cell_type": "code",
   "execution_count": 92,
   "id": "3d5e3556",
   "metadata": {},
   "outputs": [
    {
     "data": {
      "text/plain": [
       "0.10712316878419327"
      ]
     },
     "execution_count": 92,
     "metadata": {},
     "output_type": "execute_result"
    }
   ],
   "source": [
    "stats.t.cdf(z1, df)"
   ]
  },
  {
   "cell_type": "code",
   "execution_count": 93,
   "id": "24599ee0",
   "metadata": {},
   "outputs": [
    {
     "data": {
      "text/plain": [
       "0.8928768312158067"
      ]
     },
     "execution_count": 93,
     "metadata": {},
     "output_type": "execute_result"
    }
   ],
   "source": [
    " stats.t.cdf(z2, df)"
   ]
  },
  {
   "cell_type": "code",
   "execution_count": 94,
   "id": "f9a3a253",
   "metadata": {},
   "outputs": [
    {
     "data": {
      "text/plain": [
       "0.7857536624316135"
      ]
     },
     "execution_count": 94,
     "metadata": {},
     "output_type": "execute_result"
    }
   ],
   "source": [
    "prob= stats.t.cdf(z2, df)-stats.t.cdf(z1, df)\n",
    "prob"
   ]
  },
  {
   "cell_type": "code",
   "execution_count": 95,
   "id": "4d2aa871",
   "metadata": {},
   "outputs": [
    {
     "name": "stdout",
     "output_type": "stream",
     "text": [
      "The probability that in any given week, there will be an investigation is 21.4 %\n"
     ]
    }
   ],
   "source": [
    "np.round(stats.t.interval(alpha = prob, df = d_f, loc = mean, scale = std/np.sqrt(n)),)\n",
    "\n",
    "print('The probability that in any given week, there will be an investigation is',np.round((1-prob)*100,1),'%')"
   ]
  },
  {
   "cell_type": "code",
   "execution_count": null,
   "id": "c4456003",
   "metadata": {},
   "outputs": [],
   "source": []
  },
  {
   "cell_type": "code",
   "execution_count": null,
   "id": "cbd46fa7",
   "metadata": {},
   "outputs": [],
   "source": []
  },
  {
   "cell_type": "markdown",
   "id": "b1ce6c95",
   "metadata": {},
   "source": [
    "question:-The auditors from the above example would like to maintain the probability of investigation to 5%. Which of the following represents the minimum number transactions that they should sample if they do not want to change the thresholds of 45 and 55? Assume that the sample statistics remain unchanged."
   ]
  },
  {
   "cell_type": "code",
   "execution_count": 96,
   "id": "5a8fc9bd",
   "metadata": {},
   "outputs": [
    {
     "name": "stdout",
     "output_type": "stream",
     "text": [
      "n = 245.86240000000004 , round off to 246\n"
     ]
    }
   ],
   "source": [
    "## As z = (sample_mean-population-mean)/(standard deviation/sqrt(n))\n",
    "#where n=40,std=40 ,95%=1.96 \n",
    "## So 1.96 = 5 /(40/sqrt(n))\n",
    "## => 1.96 = 5 * sqrt(n)/40\n",
    "## => sqrt(n) = (1.96*40)/5\n",
    "\n",
    "n = ((1.96*40)/5)**2\n",
    "print(\"n =\",n, \", round off to\", round(n))"
   ]
  },
  {
   "cell_type": "markdown",
   "id": "9eef440a",
   "metadata": {},
   "source": [
    "question:-An educational startup that helps MBA aspirants write their essays is targeting individuals who have taken GMAT in 2012 and have expressed interest in applying to FT top 20 b-schools. There are 40000 such individuals with an average GMAT score of 720 and a standard deviation of 120. The scores are distributed between 650 and 790 with a very long and thin tail towards the higher end resulting in substantial skewness. Which of the following is likely to be true for randomly chosen samples of aspirants?\n",
    "\n",
    "A.\tThe standard deviation of the scores within any sample will be 120.\n",
    "B.\tThe standard deviation of the mean of across several samples will be 120.\n",
    "C.\tThe mean score in any sample will be 720.\n",
    "D.\tThe average of the mean across several samples will be 720.\n",
    "E.\tThe standard deviation of the mean across several samples will be 0.60\n"
   ]
  },
  {
   "cell_type": "code",
   "execution_count": null,
   "id": "ee2b3c8e",
   "metadata": {},
   "outputs": [],
   "source": []
  }
 ],
 "metadata": {
  "kernelspec": {
   "display_name": "Python 3 (ipykernel)",
   "language": "python",
   "name": "python3"
  },
  "language_info": {
   "codemirror_mode": {
    "name": "ipython",
    "version": 3
   },
   "file_extension": ".py",
   "mimetype": "text/x-python",
   "name": "python",
   "nbconvert_exporter": "python",
   "pygments_lexer": "ipython3",
   "version": "3.9.12"
  }
 },
 "nbformat": 4,
 "nbformat_minor": 5
}
