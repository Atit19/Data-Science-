{
 "cells": [
  {
   "cell_type": "code",
   "execution_count": 52,
   "id": "68cfbf4a",
   "metadata": {},
   "outputs": [],
   "source": [
    "from scipy import stats\n",
    "import numpy as np\n",
    "from scipy.stats import norm"
   ]
  },
  {
   "cell_type": "markdown",
   "id": "3c2543fa",
   "metadata": {},
   "source": [
    " Meu = 45,std=8,x=60min and for droping the time is 10min total time=55"
   ]
  },
  {
   "cell_type": "code",
   "execution_count": 53,
   "id": "2e416e5b",
   "metadata": {},
   "outputs": [],
   "source": [
    "time=55\n",
    "std=8\n",
    "Probabilty= stats.norm.sf(60, loc = time, scale = std)"
   ]
  },
  {
   "cell_type": "code",
   "execution_count": 54,
   "id": "97ad0ff9",
   "metadata": {},
   "outputs": [
    {
     "name": "stdout",
     "output_type": "stream",
     "text": [
      "The probability that the service manager cannot meet his commitment is 0.26599\n"
     ]
    }
   ],
   "source": [
    "print(\"The probability that the service manager cannot meet his commitment is\",np.round(Probabilty,5))"
   ]
  },
  {
   "cell_type": "markdown",
   "id": "0e2a4e43",
   "metadata": {},
   "source": [
    "Question :-The current age (in years) of 400 clerical employees at an insurance claims processing center is normally distributed with mean= 38 and Standard deviation =6. For each statement below, \n",
    "please specify True/False.\n",
    "A.\tMore employees at the processing center are older than 44 than between 38 and 44.\n",
    "B.\tA training program for employees under the age of 30 at the center would be expected to attract about 36 employees.\n"
   ]
  },
  {
   "cell_type": "markdown",
   "id": "769b5e01",
   "metadata": {},
   "source": [
    "for A:-mean=38,std=6,x1=38,x2=44 we have to find (x>44) i.e employees who is older than 44 yrs of age"
   ]
  },
  {
   "cell_type": "code",
   "execution_count": 55,
   "id": "95d26937",
   "metadata": {},
   "outputs": [
    {
     "data": {
      "text/plain": [
       "16.0"
      ]
     },
     "execution_count": 55,
     "metadata": {},
     "output_type": "execute_result"
    }
   ],
   "source": [
    "p=1-stats.norm.cdf(44,loc=38,scale=6)\n",
    "np.round(p*100)"
   ]
  },
  {
   "cell_type": "markdown",
   "id": "d53aed2b",
   "metadata": {},
   "source": [
    "mean=38,std=6,x1=38,x2=44 we have to find (38<x<44) i.e employees between 38 to 44 yrs of age"
   ]
  },
  {
   "cell_type": "code",
   "execution_count": 56,
   "id": "672c946e",
   "metadata": {},
   "outputs": [
    {
     "data": {
      "text/plain": [
       "34.0"
      ]
     },
     "execution_count": 56,
     "metadata": {},
     "output_type": "execute_result"
    }
   ],
   "source": [
    "q=stats.norm.cdf(44,loc=38,scale=6)-stats.norm.cdf(38,loc=38,scale=6)\n",
    "np.round(q*100)"
   ]
  },
  {
   "cell_type": "markdown",
   "id": "07402865",
   "metadata": {},
   "source": [
    "B.\tA training program for employees under the age of 30 at the center would be expected to attract about 36 employees.\n",
    "P(X<30); Employees under 30 yrs of age\n",
    "No. of employees attending training program from 400 nos. is N*P(X<30)"
   ]
  },
  {
   "cell_type": "code",
   "execution_count": 57,
   "id": "5fc824ea",
   "metadata": {},
   "outputs": [],
   "source": [
    "q1=stats.norm.cdf(30,loc=38,scale=6)"
   ]
  },
  {
   "cell_type": "code",
   "execution_count": 58,
   "id": "7fb52c02",
   "metadata": {},
   "outputs": [
    {
     "data": {
      "text/plain": [
       "9.0"
      ]
     },
     "execution_count": 58,
     "metadata": {},
     "output_type": "execute_result"
    }
   ],
   "source": [
    "np.round(q1*100)"
   ]
  },
  {
   "cell_type": "code",
   "execution_count": 59,
   "id": "89f245b0",
   "metadata": {},
   "outputs": [
    {
     "name": "stdout",
     "output_type": "stream",
     "text": [
      "No. of employees attending training program from 400 nos 36.484487890347154\n"
     ]
    }
   ],
   "source": [
    "print(\"No. of employees attending training program from 400 nos\",400*q1)"
   ]
  },
  {
   "cell_type": "markdown",
   "id": "377ff46f",
   "metadata": {},
   "source": [
    "Question:-Let X ~ N(100, 20). Find two values, a and b, symmetric about the mean, such that the probability of the random variable taking a value between them is 0.99. "
   ]
  },
  {
   "cell_type": "code",
   "execution_count": 60,
   "id": "3ed3d0f3",
   "metadata": {},
   "outputs": [
    {
     "data": {
      "text/plain": [
       "(48.48341392902199, 151.516586070978)"
      ]
     },
     "execution_count": 60,
     "metadata": {},
     "output_type": "execute_result"
    }
   ],
   "source": [
    "q2=stats.norm.interval(0.99,100,20)\n",
    "q2"
   ]
  },
  {
   "cell_type": "markdown",
   "id": "9270ae63",
   "metadata": {},
   "source": [
    "Consider a company that has two different divisions. The annual profits from the two divisions are independent and have distributions Profit1 ~ N(5, 32) and Profit2 ~ N(7, 42) respectively. Both the profits are in $ Million.\n",
    "Answer the following questions about the total profit of the company in Rupees. Assume that $1 = Rs. 45\n",
    "A.\tSpecify a Rupee range (centered on the mean) such that it contains 95% probability for the annual profit of the company.\n",
    "B.\tSpecify the 5th percentile of profit (in Rupees) for the company\n",
    "C.\tWhich of the two divisions has a larger probability of making a loss in a given year?\n"
   ]
  },
  {
   "cell_type": "markdown",
   "id": "6e551b5b",
   "metadata": {},
   "source": [
    " Mean profits from two different divisions of a company = Mean1 + Mean2\n",
    " mean1=5 ,mean2=7,overall mean=12, profit earn by company =45*12=540"
   ]
  },
  {
   "cell_type": "code",
   "execution_count": 61,
   "id": "b9af0e6d",
   "metadata": {},
   "outputs": [
    {
     "name": "stdout",
     "output_type": "stream",
     "text": [
      "Mean Profit is Rs 540 Million\n",
      "Standard Deviation is Rs 225.0 Million\n"
     ]
    }
   ],
   "source": [
    "Mean = 5+7\n",
    "print('Mean Profit is Rs', Mean*45,'Million')\n",
    "SD = np.sqrt((9)+(16))\n",
    "print('Standard Deviation is Rs', SD*45, 'Million') # Variance of profits from two different divisions of a company = SD^2 = SD1^2 + SD2^2"
   ]
  },
  {
   "cell_type": "markdown",
   "id": "8161260f",
   "metadata": {},
   "source": [
    "Question A-Specify a Rupee range (centered on the mean) such that it contains 95% probability for the annual profit of the company."
   ]
  },
  {
   "cell_type": "code",
   "execution_count": 62,
   "id": "c43495c8",
   "metadata": {},
   "outputs": [
    {
     "data": {
      "text/plain": [
       "(99.00810347848784, 980.9918965215122)"
      ]
     },
     "execution_count": 62,
     "metadata": {},
     "output_type": "execute_result"
    }
   ],
   "source": [
    "q1=stats.norm.interval(0.95,540,225)\n",
    "q1"
   ]
  },
  {
   "cell_type": "code",
   "execution_count": 63,
   "id": "ab5ace81",
   "metadata": {},
   "outputs": [
    {
     "name": "stdout",
     "output_type": "stream",
     "text": [
      "Range is Rs  (99.00810347848784, 980.9918965215122) in Millions\n"
     ]
    }
   ],
   "source": [
    "print('Range is Rs ',q1,'in Millions')"
   ]
  },
  {
   "cell_type": "markdown",
   "id": "1db2470b",
   "metadata": {},
   "source": [
    "question B-Specify the 5th percentile of profit (in Rupees) for the company"
   ]
  },
  {
   "cell_type": "code",
   "execution_count": 64,
   "id": "e1686da0",
   "metadata": {},
   "outputs": [
    {
     "name": "stdout",
     "output_type": "stream",
     "text": [
      "5th percentile of profit in Million Rupees is 170.0\n"
     ]
    }
   ],
   "source": [
    "X= 540+(-1.645)*(225)  #wherein from z table, 5 percentile = -1.645\n",
    "print('5th percentile of profit in Million Rupees is',np.round(X))"
   ]
  },
  {
   "cell_type": "markdown",
   "id": "51a55361",
   "metadata": {},
   "source": [
    "Question c-Which of the two divisions has a larger probability of making a loss in a given year"
   ]
  },
  {
   "cell_type": "code",
   "execution_count": 65,
   "id": "27f1bdf3",
   "metadata": {},
   "outputs": [],
   "source": [
    "q2=stats.norm.cdf(0,5,3) # Probability of Division 1 making a loss P(X<0)\n",
    "q3=stats.norm.cdf(0,7,4) # Probability of Division 2 making a loss P(X<0)\n"
   ]
  },
  {
   "cell_type": "code",
   "execution_count": 66,
   "id": "82642487",
   "metadata": {},
   "outputs": [
    {
     "data": {
      "text/plain": [
       "0.0477903522728147"
      ]
     },
     "execution_count": 66,
     "metadata": {},
     "output_type": "execute_result"
    }
   ],
   "source": [
    "q2"
   ]
  },
  {
   "cell_type": "code",
   "execution_count": 67,
   "id": "c814e13b",
   "metadata": {},
   "outputs": [
    {
     "data": {
      "text/plain": [
       "0.040059156863817086"
      ]
     },
     "execution_count": 67,
     "metadata": {},
     "output_type": "execute_result"
    }
   ],
   "source": [
    "q3"
   ]
  },
  {
   "cell_type": "code",
   "execution_count": null,
   "id": "1336d362",
   "metadata": {},
   "outputs": [],
   "source": []
  }
 ],
 "metadata": {
  "kernelspec": {
   "display_name": "Python 3 (ipykernel)",
   "language": "python",
   "name": "python3"
  },
  "language_info": {
   "codemirror_mode": {
    "name": "ipython",
    "version": 3
   },
   "file_extension": ".py",
   "mimetype": "text/x-python",
   "name": "python",
   "nbconvert_exporter": "python",
   "pygments_lexer": "ipython3",
   "version": "3.9.12"
  }
 },
 "nbformat": 4,
 "nbformat_minor": 5
}
