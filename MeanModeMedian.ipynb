{
  "nbformat": 4,
  "nbformat_minor": 0,
  "metadata": {
    "colab": {
      "name": "MeanModeMedian.ipynb",
      "provenance": [],
      "collapsed_sections": [],
      "authorship_tag": "ABX9TyNy1kEaleGOyf25pFc5l3Ji",
      "include_colab_link": true
    },
    "kernelspec": {
      "name": "python3",
      "display_name": "Python 3"
    },
    "language_info": {
      "name": "python"
    }
  },
  "cells": [
    {
      "cell_type": "markdown",
      "metadata": {
        "id": "view-in-github",
        "colab_type": "text"
      },
      "source": [
        "<a href=\"https://colab.research.google.com/github/Atit19/R.Descriptive/blob/main/MeanModeMedian.ipynb\" target=\"_parent\"><img src=\"https://colab.research.google.com/assets/colab-badge.svg\" alt=\"Open In Colab\"/></a>"
      ]
    },
    {
      "cell_type": "code",
      "execution_count": 28,
      "metadata": {
        "id": "V6FLuF47UJ0e"
      },
      "outputs": [],
      "source": [
        "import pandas as pd\n",
        "import numpy as np\n"
      ]
    },
    {
      "cell_type": "code",
      "source": [
        "df=pd.read_csv('/content/Q7.csv')\n",
        "df"
      ],
      "metadata": {
        "id": "VmGo0x1AVQ2U"
      },
      "execution_count": null,
      "outputs": []
    },
    {
      "cell_type": "code",
      "source": [
        "\n",
        "df[['Weigh', 'Points','Score']].mean()\n"
      ],
      "metadata": {
        "id": "Gu_N4c5kVVK7"
      },
      "execution_count": null,
      "outputs": []
    },
    {
      "cell_type": "code",
      "source": [
        "df[['Weigh', 'Points','Score']].median()"
      ],
      "metadata": {
        "id": "OY0fu-6aVU86"
      },
      "execution_count": null,
      "outputs": []
    },
    {
      "cell_type": "code",
      "source": [
        "df[['Weigh', 'Points','Score']].mode"
      ],
      "metadata": {
        "id": "sUfKNXd8W662"
      },
      "execution_count": null,
      "outputs": []
    },
    {
      "cell_type": "code",
      "source": [
        "df[['Weigh', 'Points','Score']].std()"
      ],
      "metadata": {
        "id": "OzaDkGD3XeYH"
      },
      "execution_count": null,
      "outputs": []
    }
  ]
}