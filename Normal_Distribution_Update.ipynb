{
  "nbformat": 4,
  "nbformat_minor": 0,
  "metadata": {
    "colab": {
      "name": "Normal Distribution_Update.ipynb",
      "provenance": [],
      "collapsed_sections": [],
      "authorship_tag": "ABX9TyNK4lpHW+lMoE1FloMdUN0y",
      "include_colab_link": true
    },
    "kernelspec": {
      "name": "python3",
      "display_name": "Python 3"
    },
    "language_info": {
      "name": "python"
    }
  },
  "cells": [
    {
      "cell_type": "markdown",
      "metadata": {
        "id": "view-in-github",
        "colab_type": "text"
      },
      "source": [
        "<a href=\"https://colab.research.google.com/github/Atit19/R.Descriptive/blob/main/Normal_Distribution_Update.ipynb\" target=\"_parent\"><img src=\"https://colab.research.google.com/assets/colab-badge.svg\" alt=\"Open In Colab\"/></a>"
      ]
    },
    {
      "cell_type": "code",
      "execution_count": 1,
      "metadata": {
        "id": "OdGnbCe5DPUF"
      },
      "outputs": [],
      "source": [
        "from scipy import stats\n",
        "\n"
      ]
    },
    {
      "cell_type": "code",
      "source": [
        "x=30\n",
        "mean=125\n",
        "std=7.5\n",
        "stats.norm.cdf(x,loc=mean,scale=std) #by def it would consider X<=32\n",
        "1-stats.norm.cdf(x,loc=mean,scale=std) #for greater than 32,use Area under the curve\n"
      ],
      "metadata": {
        "colab": {
          "base_uri": "https://localhost:8080/"
        },
        "id": "9ZxwV4rxEAtT",
        "outputId": "664541f8-7736-49aa-d56c-614f6f5263fe"
      },
      "execution_count": null,
      "outputs": [
        {
          "output_type": "execute_result",
          "data": {
            "text/plain": [
              "1.0"
            ]
          },
          "metadata": {},
          "execution_count": 3
        }
      ]
    },
    {
      "cell_type": "code",
      "source": [
        "x=70\n",
        "mean=60\n",
        "std=10\n",
        "stats.norm.cdf(x,loc=mean,scale=std)"
      ],
      "metadata": {
        "colab": {
          "base_uri": "https://localhost:8080/"
        },
        "id": "XzpPvGyzHEYR",
        "outputId": "a1a9356d-1642-4c42-b1c3-10739e649b38"
      },
      "execution_count": null,
      "outputs": [
        {
          "output_type": "execute_result",
          "data": {
            "text/plain": [
              "0.8413447460685429"
            ]
          },
          "metadata": {},
          "execution_count": 4
        }
      ]
    },
    {
      "cell_type": "code",
      "source": [
        "x=69\n",
        "mean=60\n",
        "std=10\n",
        "stats.norm.cdf(x,loc=mean,scale=std)"
      ],
      "metadata": {
        "colab": {
          "base_uri": "https://localhost:8080/"
        },
        "id": "W0MM4FDsHETH",
        "outputId": "93a13863-645b-4a3e-e68e-32b30960c785"
      },
      "execution_count": null,
      "outputs": [
        {
          "output_type": "execute_result",
          "data": {
            "text/plain": [
              "0.8159398746532405"
            ]
          },
          "metadata": {},
          "execution_count": 5
        }
      ]
    },
    {
      "cell_type": "code",
      "source": [
        "x=680\n",
        "mean=711\n",
        "std=29\n",
        "stats.norm.cdf(x,loc=mean,scale=std)"
      ],
      "metadata": {
        "colab": {
          "base_uri": "https://localhost:8080/"
        },
        "id": "KQGrnDONHiig",
        "outputId": "6dfdd929-2f01-4b7e-e784-9b8613035d63"
      },
      "execution_count": null,
      "outputs": [
        {
          "output_type": "execute_result",
          "data": {
            "text/plain": [
              "0.14254260383881612"
            ]
          },
          "metadata": {},
          "execution_count": 6
        }
      ]
    },
    {
      "cell_type": "code",
      "source": [
        "x1=697 ########### If we have given 2 X values\n",
        "x2=740\n",
        "mean=711\n",
        "std=29\n",
        "print(1-stats.norm.cdf(x1,loc=mean,scale=std))            #for Right hand side\n",
        "print(stats.norm.cdf(x2,loc=mean,scale=std))               # For left hand side"
      ],
      "metadata": {
        "colab": {
          "base_uri": "https://localhost:8080/"
        },
        "id": "5C3eejIPY0d5",
        "outputId": "8051f93c-9587-49cf-b3c8-c26923dad1ba"
      },
      "execution_count": 4,
      "outputs": [
        {
          "output_type": "stream",
          "name": "stdout",
          "text": [
            "0.6853664325729589\n",
            "0.8413447460685429\n"
          ]
        }
      ]
    },
    {
      "cell_type": "code",
      "source": [
        "x=70\n",
        "mean=60\n",
        "std=10\n",
        "stats.norm.cdf(x,loc=mean,scale=std)"
      ],
      "metadata": {
        "colab": {
          "base_uri": "https://localhost:8080/"
        },
        "id": "ULBrG72DWET1",
        "outputId": "bd73340b-ac7b-4fed-9aa8-5693d274964d"
      },
      "execution_count": 2,
      "outputs": [
        {
          "output_type": "execute_result",
          "data": {
            "text/plain": [
              "0.8413447460685429"
            ]
          },
          "metadata": {},
          "execution_count": 2
        }
      ]
    }
  ]
}